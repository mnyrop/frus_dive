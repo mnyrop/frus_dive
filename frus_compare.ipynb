{
 "cells": [
  {
   "cell_type": "code",
   "execution_count": 1,
   "metadata": {},
   "outputs": [],
   "source": [
    "import pandas as pd\n",
    "import Levenshtein as lev"
   ]
  },
  {
   "cell_type": "code",
   "execution_count": 2,
   "metadata": {},
   "outputs": [],
   "source": [
    "may_docs = pd.read_csv('volume_representations_may_3.csv')\n",
    "apr_docs = pd.read_csv('volume_representations_apr_3.csv')\n",
    "dec_docs = pd.read_csv('volume_representations_dec_21.csv')"
   ]
  },
  {
   "cell_type": "markdown",
   "metadata": {},
   "source": [
    "### Preview"
   ]
  },
  {
   "cell_type": "code",
   "execution_count": 3,
   "metadata": {},
   "outputs": [
    {
     "data": {
      "text/html": [
       "<div>\n",
       "<style scoped>\n",
       "    .dataframe tbody tr th:only-of-type {\n",
       "        vertical-align: middle;\n",
       "    }\n",
       "\n",
       "    .dataframe tbody tr th {\n",
       "        vertical-align: top;\n",
       "    }\n",
       "\n",
       "    .dataframe thead th {\n",
       "        text-align: right;\n",
       "    }\n",
       "</style>\n",
       "<table border=\"1\" class=\"dataframe\">\n",
       "  <thead>\n",
       "    <tr style=\"text-align: right;\">\n",
       "      <th></th>\n",
       "      <th>volume</th>\n",
       "      <th>doc_id</th>\n",
       "      <th>doc_title</th>\n",
       "    </tr>\n",
       "  </thead>\n",
       "  <tbody>\n",
       "    <tr>\n",
       "      <th>0</th>\n",
       "      <td>frus1917-72PubDipv06</td>\n",
       "      <td>frus1917-72PubDipv06d1</td>\n",
       "      <td>1. Memorandum From Thomas C.\\n                ...</td>\n",
       "    </tr>\n",
       "    <tr>\n",
       "      <th>1</th>\n",
       "      <td>frus1917-72PubDipv06</td>\n",
       "      <td>frus1917-72PubDipv06d2</td>\n",
       "      <td>2. Memorandum Prepared by Thomas C.\\n         ...</td>\n",
       "    </tr>\n",
       "    <tr>\n",
       "      <th>2</th>\n",
       "      <td>frus1917-72PubDipv06</td>\n",
       "      <td>frus1917-72PubDipv06d3</td>\n",
       "      <td>3. Report Prepared by Deputy Director-Designat...</td>\n",
       "    </tr>\n",
       "    <tr>\n",
       "      <th>3</th>\n",
       "      <td>frus1917-72PubDipv06</td>\n",
       "      <td>frus1917-72PubDipv06d4</td>\n",
       "      <td>4. Memorandum From James J.\\n                 ...</td>\n",
       "    </tr>\n",
       "    <tr>\n",
       "      <th>4</th>\n",
       "      <td>frus1917-72PubDipv06</td>\n",
       "      <td>frus1917-72PubDipv06d5</td>\n",
       "      <td>5. Report Prepared by the Task Force on the Un...</td>\n",
       "    </tr>\n",
       "  </tbody>\n",
       "</table>\n",
       "</div>"
      ],
      "text/plain": [
       "                 volume                  doc_id  \\\n",
       "0  frus1917-72PubDipv06  frus1917-72PubDipv06d1   \n",
       "1  frus1917-72PubDipv06  frus1917-72PubDipv06d2   \n",
       "2  frus1917-72PubDipv06  frus1917-72PubDipv06d3   \n",
       "3  frus1917-72PubDipv06  frus1917-72PubDipv06d4   \n",
       "4  frus1917-72PubDipv06  frus1917-72PubDipv06d5   \n",
       "\n",
       "                                           doc_title  \n",
       "0  1. Memorandum From Thomas C.\\n                ...  \n",
       "1  2. Memorandum Prepared by Thomas C.\\n         ...  \n",
       "2  3. Report Prepared by Deputy Director-Designat...  \n",
       "3  4. Memorandum From James J.\\n                 ...  \n",
       "4  5. Report Prepared by the Task Force on the Un...  "
      ]
     },
     "execution_count": 3,
     "metadata": {},
     "output_type": "execute_result"
    }
   ],
   "source": [
    "may_docs.head()"
   ]
  },
  {
   "cell_type": "markdown",
   "metadata": {},
   "source": [
    "### Compare # of docs"
   ]
  },
  {
   "cell_type": "code",
   "execution_count": 4,
   "metadata": {},
   "outputs": [
    {
     "name": "stdout",
     "output_type": "stream",
     "text": [
      "December 21: 306329 \n",
      " April 3: 307048 \n",
      " May 3: 307048\n"
     ]
    }
   ],
   "source": [
    "print('December 21:', len(dec_docs), \"\\n\",\n",
    "      'April 3:', len(apr_docs), \"\\n\",\n",
    "      'May 3:', len(may_docs))"
   ]
  },
  {
   "cell_type": "code",
   "execution_count": 5,
   "metadata": {},
   "outputs": [
    {
     "name": "stdout",
     "output_type": "stream",
     "text": [
      "Doc count increased by 719 between December and April\n"
     ]
    }
   ],
   "source": [
    "print('Doc count increased by',\n",
    "      (len(apr_docs) - len(dec_docs)),\n",
    "      'between December and April')"
   ]
  },
  {
   "cell_type": "markdown",
   "metadata": {},
   "source": [
    "### Compare dataframe contents"
   ]
  },
  {
   "cell_type": "code",
   "execution_count": 6,
   "metadata": {},
   "outputs": [
    {
     "data": {
      "text/plain": [
       "False"
      ]
     },
     "execution_count": 6,
     "metadata": {},
     "output_type": "execute_result"
    }
   ],
   "source": [
    "may_docs.equals(apr_docs)"
   ]
  },
  {
   "cell_type": "code",
   "execution_count": 7,
   "metadata": {},
   "outputs": [
    {
     "data": {
      "text/plain": [
       "False"
      ]
     },
     "execution_count": 7,
     "metadata": {},
     "output_type": "execute_result"
    }
   ],
   "source": [
    "apr_docs.equals(dec_docs)"
   ]
  },
  {
   "cell_type": "markdown",
   "metadata": {},
   "source": [
    "### Compare document ids listed"
   ]
  },
  {
   "cell_type": "code",
   "execution_count": 8,
   "metadata": {},
   "outputs": [
    {
     "data": {
      "text/plain": [
       "True"
      ]
     },
     "execution_count": 8,
     "metadata": {},
     "output_type": "execute_result"
    }
   ],
   "source": [
    "set(may_docs['doc_id']) == set(apr_docs['doc_id'])"
   ]
  },
  {
   "cell_type": "code",
   "execution_count": 9,
   "metadata": {},
   "outputs": [
    {
     "data": {
      "text/plain": [
       "False"
      ]
     },
     "execution_count": 9,
     "metadata": {},
     "output_type": "execute_result"
    }
   ],
   "source": [
    "set(apr_docs['doc_id']) == set(dec_docs['doc_id'])"
   ]
  },
  {
   "cell_type": "markdown",
   "metadata": {},
   "source": [
    "### Get doc id diffs between Dec 2018 and April 2019"
   ]
  },
  {
   "cell_type": "code",
   "execution_count": 10,
   "metadata": {},
   "outputs": [],
   "source": [
    "added = list(set(apr_docs['doc_id']).difference(set(dec_docs['doc_id'])))\n",
    "lost  = list(set(dec_docs['doc_id']).difference(set(apr_docs['doc_id'])))"
   ]
  },
  {
   "cell_type": "code",
   "execution_count": 11,
   "metadata": {},
   "outputs": [
    {
     "name": "stdout",
     "output_type": "stream",
     "text": [
      "719 new document IDs were added \n",
      "\n",
      " ['frus1977-80v24d6', 'frus1977-80v12d237', 'frus1977-80v12d318', 'frus1977-80v24d170', 'frus1977-80v24d209', 'frus1977-80v12d32', 'frus1977-80v24d282', 'frus1977-80v12d232', 'frus1977-80v12d227', 'frus1977-80v12d1', 'frus1977-80v24d219', 'frus1977-80v24d157', 'frus1977-80v12d87', 'frus1977-80v24d17', 'frus1977-80v24d289', 'frus1977-80v12d201', 'frus1977-80v24d295', 'frus1977-80v12d97', 'frus1977-80v24d159', 'frus1977-80v24d197', 'frus1977-80v12d298', 'frus1977-80v24d353', 'frus1977-80v24d90', 'frus1977-80v12d156', 'frus1977-80v12d167', 'frus1977-80v24d13', 'frus1977-80v12d239', 'frus1977-80v12d70', 'frus1977-80v24d114', 'frus1977-80v24d155', 'frus1977-80v24d126', 'frus1977-80v12d46', 'frus1977-80v12d303', 'frus1977-80v24d348', 'frus1977-80v24d80', 'frus1977-80v12d66', 'frus1977-80v24d115', 'frus1977-80v24d49', 'frus1977-80v24d150', 'frus1977-80v24d235', 'frus1977-80v24d350', 'frus1977-80v24d304', 'frus1977-80v12d307', 'frus1977-80v12d125', 'frus1977-80v12d302', 'frus1977-80v12d23', 'frus1977-80v12d149', 'frus1977-80v12d248', 'frus1977-80v24d189', 'frus1977-80v12d11', 'frus1977-80v12d112', 'frus1977-80v12d264', 'frus1977-80v12d54', 'frus1977-80v24d102', 'frus1977-80v24d167', 'frus1977-80v12d235', 'frus1977-80v24d276', 'frus1977-80v24d169', 'frus1977-80v24d141', 'frus1977-80v12d5', 'frus1977-80v12d89', 'frus1977-80v12d245', 'frus1977-80v12d300', 'frus1977-80v12d123', 'frus1977-80v12d128', 'frus1977-80v24d99', 'frus1977-80v24d107', 'frus1977-80v12d58', 'frus1977-80v12d216', 'frus1977-80v12d223', 'frus1977-80v24d341', 'frus1977-80v24d21', 'frus1977-80v12d16', 'frus1977-80v12d67', 'frus1977-80v12d285', 'frus1977-80v24d307', 'frus1977-80v24d218', 'frus1977-80v24d147', 'frus1977-80v24d261', 'frus1977-80v12d269', 'frus1977-80v24d19', 'frus1977-80v12d148', 'frus1977-80v24d56', 'frus1977-80v24d309', 'frus1977-80v24d240', 'frus1977-80v12d39', 'frus1977-80v12d281', 'frus1977-80v12d320', 'frus1977-80v24d104', 'frus1977-80v12d126', 'frus1977-80v24d39', 'frus1977-80v12d50', 'frus1977-80v12d9', 'frus1977-80v24d72', 'frus1977-80v12d122', 'frus1977-80v12d197', 'frus1977-80v12d220', 'frus1977-80v24d254', 'frus1977-80v12d213', 'frus1977-80v24d298', 'frus1977-80v24d259', 'frus1977-80v24d319', 'frus1977-80v12d272', 'frus1977-80v24d29', 'frus1977-80v24d201', 'frus1977-80v12d14', 'frus1977-80v24d152', 'frus1977-80v24d205', 'frus1977-80v12d287', 'frus1977-80v12d345', 'frus1977-80v24d60', 'frus1977-80v24d191', 'frus1977-80v24d325', 'frus1977-80v12d152', 'frus1977-80v24d186', 'frus1977-80v12d234', 'frus1977-80v24d175', 'frus1977-80v12d291', 'frus1977-80v24d158', 'frus1977-80v12d186', 'frus1977-80v12d56', 'frus1977-80v24d131', 'frus1977-80v24d262', 'frus1977-80v12d114', 'frus1977-80v24d179', 'frus1977-80v12d28', 'frus1977-80v24d279', 'frus1977-80v24d271', 'frus1977-80v24d278', 'frus1977-80v12d175', 'frus1977-80v24d78', 'frus1977-80v24d238', 'frus1977-80v24d64', 'frus1977-80v12d96', 'frus1977-80v24d182', 'frus1977-80v24d88', 'frus1977-80v12d47', 'frus1977-80v12d328', 'frus1977-80v24d351', 'frus1977-80v12d49', 'frus1977-80v12d296', 'frus1977-80v12d155', 'frus1977-80v24d269', 'frus1977-80v24d185', 'frus1977-80v24d47', 'frus1977-80v12d299', 'frus1977-80v24d327', 'frus1977-80v24d35', 'frus1977-80v12d38', 'frus1977-80v24d22', 'frus1977-80v24d230', 'frus1977-80v12d65', 'frus1977-80v12d212', 'frus1977-80v12d206', 'frus1977-80v12d146', 'frus1977-80v12d40', 'frus1977-80v12d199', 'frus1977-80v12d309', 'frus1977-80v24d222', 'frus1977-80v24d273', 'frus1977-80v24d67', 'frus1977-80v12d131', 'frus1977-80v24d183', 'frus1977-80v12d226', 'frus1977-80v12d69', 'frus1977-80v12d124', 'frus1977-80v12d86', 'frus1977-80v24d71', 'frus1977-80v24d172', 'frus1977-80v12d217', 'frus1977-80v24d193', 'frus1977-80v24d318', 'frus1977-80v12d276', 'frus1977-80v12d221', 'frus1977-80v24d63', 'frus1977-80v24d121', 'frus1977-80v24d136', 'frus1977-80v24d367', 'frus1977-80v12d195', 'frus1977-80v24d146', 'frus1977-80v24d210', 'frus1977-80v12d18', 'frus1977-80v24d363', 'frus1977-80v24d124', 'frus1977-80v12d311', 'frus1977-80v24d143', 'frus1977-80v24d360', 'frus1977-80v12d115', 'frus1977-80v12d95', 'frus1977-80v12d183', 'frus1977-80v24d93', 'frus1977-80v12d120', 'frus1977-80v12d74', 'frus1977-80v12d83', 'frus1977-80v12d61', 'frus1977-80v24d258', 'frus1977-80v24d336', 'frus1977-80v24d33', 'frus1977-80v12d312', 'frus1977-80v12d252', 'frus1977-80v24d308', 'frus1977-80v24d199', 'frus1977-80v24d96', 'frus1977-80v24d347', 'frus1977-80v12d138', 'frus1977-80v24d315', 'frus1977-80v24d257', 'frus1977-80v24d256', 'frus1977-80v24d300', 'frus1977-80v24d332', 'frus1977-80v24d272', 'frus1977-80v24d116', 'frus1977-80v24d180', 'frus1977-80v12d19', 'frus1977-80v24d344', 'frus1977-80v24d303', 'frus1977-80v24d139', 'frus1977-80v24d166', 'frus1977-80v12d51', 'frus1977-80v12d270', 'frus1977-80v12d243', 'frus1977-80v12d82', 'frus1977-80v24d145', 'frus1977-80v12d246', 'frus1977-80v24d247', 'frus1977-80v12d177', 'frus1977-80v24d144', 'frus1977-80v12d150', 'frus1977-80v12d179', 'frus1977-80v24d194', 'frus1977-80v12d172', 'frus1977-80v24d125', 'frus1977-80v12d225', 'frus1977-80v12d127', 'frus1977-80v12d277', 'frus1977-80v24d40', 'frus1977-80v24d4', 'frus1977-80v12d194', 'frus1977-80v12d73', 'frus1977-80v12d103', 'frus1977-80v12d48', 'frus1977-80v24d249', 'frus1977-80v24d165', 'frus1977-80v24d355', 'frus1977-80v24d234', 'frus1977-80v24d369', 'frus1977-80v24d314', 'frus1977-80v12d154', 'frus1977-80v12d118', 'frus1977-80v12d257', 'frus1977-80v24d286', 'frus1977-80v12d340', 'frus1977-80v24d294', 'frus1977-80v12d168', 'frus1977-80v24d86', 'frus1977-80v24d134', 'frus1977-80v12d241', 'frus1977-80v24d73', 'frus1977-80v24d221', 'frus1977-80v12d22', 'frus1977-80v24d342', 'frus1977-80v24d352', 'frus1977-80v24d343', 'frus1977-80v12d119', 'frus1977-80v24d106', 'frus1977-80v24d245', 'frus1977-80v12d265', 'frus1977-80v24d200', 'frus1977-80v12d129', 'frus1977-80v12d297', 'frus1977-80v12d132', 'frus1977-80v24d226', 'frus1977-80v12d164', 'frus1977-80v12d294', 'frus1977-80v12d44', 'frus1977-80v12d211', 'frus1977-80v12d68', 'frus1977-80v24d192', 'frus1977-80v24d129', 'frus1977-80v12d314', 'frus1977-80v24d26', 'frus1977-80v24d340', 'frus1977-80v12d182', 'frus1977-80v12d215', 'frus1977-80v12d333', 'frus1977-80v12d141', 'frus1977-80v12d253', 'frus1977-80v24d364', 'frus1977-80v24d357', 'frus1977-80v24d204', 'frus1977-80v24d138', 'frus1977-80v12d34', 'frus1977-80v12d209', 'frus1977-80v24d287', 'frus1977-80v12d295', 'frus1977-80v24d301', 'frus1977-80v12d36', 'frus1977-80v12d165', 'frus1977-80v24d7', 'frus1977-80v12d80', 'frus1977-80v12d341', 'frus1977-80v12d202', 'frus1977-80v12d101', 'frus1977-80v24d243', 'frus1977-80v24d324', 'frus1977-80v24d42', 'frus1977-80v12d218', 'frus1977-80v12d236', 'frus1977-80v24d329', 'frus1977-80v24d211', 'frus1977-80v12d147', 'frus1977-80v24d46', 'frus1977-80v24d83', 'frus1977-80v24d16', 'frus1977-80v24d100', 'frus1977-80v24d181', 'frus1977-80v24d133', 'frus1977-80v24d11', 'frus1977-80v24d92', 'frus1977-80v24d310', 'frus1977-80v24d118', 'frus1977-80v12d176', 'frus1977-80v24d51', 'frus1977-80v24d94', 'frus1977-80v12d57', 'frus1977-80v24d297', 'frus1977-80v12d192', 'frus1977-80v12d293', 'frus1977-80v24d140', 'frus1977-80v12d145', 'frus1977-80v12d305', 'frus1977-80v12d71', 'frus1977-80v12d139', 'frus1977-80v24d142', 'frus1977-80v12d278', 'frus1977-80v24d41', 'frus1977-80v12d144', 'frus1977-80v24d173', 'frus1977-80v12d169', 'frus1977-80v24d164', 'frus1977-80v24d225', 'frus1977-80v24d223', 'frus1977-80v24d366', 'frus1977-80v12d84', 'frus1977-80v24d334', 'frus1977-80v24d37', 'frus1977-80v12d271', 'frus1977-80v12d121', 'frus1977-80v12d107', 'frus1977-80v12d60', 'frus1977-80v24d55', 'frus1977-80v24d161', 'frus1977-80v12d3', 'frus1977-80v12d6', 'frus1977-80v12d187', 'frus1977-80v12d207', 'frus1977-80v24d338', 'frus1977-80v12d228', 'frus1977-80v24d241', 'frus1977-80v24d296', 'frus1977-80v12d92', 'frus1977-80v24d3', 'frus1977-80v12d166', 'frus1977-80v12d63', 'frus1977-80v24d284', 'frus1977-80v12d33', 'frus1977-80v12d31', 'frus1977-80v24d137', 'frus1977-80v12d135', 'frus1977-80v24d255', 'frus1977-80v24d250', 'frus1977-80v24d291', 'frus1977-80v24d322', 'frus1977-80v24d358', 'frus1977-80v24d323', 'frus1977-80v12d134', 'frus1977-80v12d335', 'frus1977-80v12d43', 'frus1977-80v24d153', 'frus1977-80v24d68', 'frus1977-80v24d195', 'frus1977-80v12d193', 'frus1977-80v24d267', 'frus1977-80v12d178', 'frus1977-80v24d320', 'frus1977-80v24d149', 'frus1977-80v12d24', 'frus1977-80v24d28', 'frus1977-80v24d50', 'frus1977-80v12d99', 'frus1977-80v12d59', 'frus1977-80v24d270', 'frus1977-80v12d255', 'frus1977-80v12d283', 'frus1977-80v12d25', 'frus1977-80v12d158', 'frus1977-80v12d254', 'frus1977-80v12d37', 'frus1977-80v24d190', 'frus1977-80v24d321', 'frus1977-80v24d248', 'frus1977-80v12d332', 'frus1977-80v24d277', 'frus1977-80v12d173', 'frus1977-80v12d94', 'frus1977-80v24d160', 'frus1977-80v24d59', 'frus1977-80v24d281', 'frus1977-80v12d330', 'frus1977-80v12d81', 'frus1977-80v24d311', 'frus1977-80v12d250', 'frus1977-80v12d62', 'frus1977-80v24d252', 'frus1977-80v24d220', 'frus1977-80v24d208', 'frus1977-80v12d214', 'frus1977-80v24d95', 'frus1977-80v24d101', 'frus1977-80v12d259', 'frus1977-80v24d45', 'frus1977-80v12d102', 'frus1977-80v24d299', 'frus1977-80v24d215', 'frus1977-80v24d15', 'frus1977-80v12d91', 'frus1977-80v24d178', 'frus1977-80v12d344', 'frus1977-80v12d190', 'frus1977-80v12d260', 'frus1977-80v24d8', 'frus1977-80v12d75', 'frus1977-80v24d365', 'frus1977-80v12d198', 'frus1977-80v12d161', 'frus1977-80v12d105', 'frus1977-80v12d233', 'frus1977-80v24d372', 'frus1977-80v24d32', 'frus1977-80v24d84', 'frus1977-80v12d256', 'frus1977-80v12d289', 'frus1977-80v12d273', 'frus1977-80v12d171', 'frus1977-80v24d14', 'frus1977-80v12d263', 'frus1977-80v24d335', 'frus1977-80v12d98', 'frus1977-80v24d154', 'frus1977-80v12d329', 'frus1977-80v12d244', 'frus1977-80v12d20', 'frus1977-80v12d331', 'frus1977-80v12d310', 'frus1977-80v24d54', 'frus1977-80v24d285', 'frus1977-80v24d293', 'frus1977-80v12d189', 'frus1977-80v12d184', 'frus1977-80v12d222', 'frus1977-80v24d132', 'frus1977-80v24d263', 'frus1977-80v12d111', 'frus1977-80v12d279', 'frus1977-80v24d12', 'frus1977-80v24d274', 'frus1977-80v12d104', 'frus1977-80v24d61', 'frus1977-80v12d77', 'frus1977-80v24d266', 'frus1977-80v24d130', 'frus1977-80v24d57', 'frus1977-80v24d127', 'frus1977-80v12d64', 'frus1977-80v24d128', 'frus1977-80v12d284', 'frus1977-80v12d142', 'frus1977-80v24d1', 'frus1977-80v24d112', 'frus1977-80v24d97', 'frus1977-80v24d177', 'frus1977-80v12d346', 'frus1977-80v24d242', 'frus1977-80v12d181', 'frus1977-80v24d69', 'frus1977-80v24d20', 'frus1977-80v24d207', 'frus1977-80v24d70', 'frus1977-80v12d27', 'frus1977-80v24d198', 'frus1977-80v12d205', 'frus1977-80v24d229', 'frus1977-80v24d216', 'frus1977-80v12d30', 'frus1977-80v12d88', 'frus1977-80v12d17', 'frus1977-80v12d35', 'frus1977-80v12d343', 'frus1977-80v12d85', 'frus1977-80v12d29', 'frus1977-80v24d283', 'frus1977-80v12d106', 'frus1977-80v12d288', 'frus1977-80v24d313', 'frus1977-80v12d8', 'frus1977-80v12d323', 'frus1977-80v24d349', 'frus1977-80v12d210', 'frus1977-80v12d313', 'frus1977-80v12d267', 'frus1977-80v24d48', 'frus1977-80v12d159', 'frus1977-80v24d9', 'frus1977-80v24d317', 'frus1977-80v12d324', 'frus1977-80v12d133', 'frus1977-80v24d188', 'frus1977-80v12d337', 'frus1977-80v24d119', 'frus1977-80v24d292', 'frus1977-80v24d337', 'frus1977-80v24d89', 'frus1977-80v12d113', 'frus1977-80v24d328', 'frus1977-80v24d31', 'frus1977-80v24d117', 'frus1977-80v24d76', 'frus1977-80v24d306', 'frus1977-80v24d236', 'frus1977-80v24d206', 'frus1977-80v12d301', 'frus1977-80v12d326', 'frus1977-80v24d232', 'frus1977-80v24d345', 'frus1977-80v24d30', 'frus1977-80v12d163', 'frus1977-80v24d162', 'frus1977-80v12d93', 'frus1977-80v24d36', 'frus1977-80v12d79', 'frus1977-80v24d290', 'frus1977-80v12d53', 'frus1977-80v24d280', 'frus1977-80v24d65', 'frus1977-80v12d108', 'frus1977-80v12d275', 'frus1977-80v12d242', 'frus1977-80v24d148', 'frus1977-80v24d275', 'frus1977-80v12d336', 'frus1977-80v24d237', 'frus1977-80v24d217', 'frus1977-80v12d224', 'frus1977-80v24d371', 'frus1977-80v24d87', 'frus1977-80v12d238', 'frus1977-80v12d72', 'frus1977-80v24d122', 'frus1977-80v24d85', 'frus1977-80v24d260', 'frus1977-80v24d163', 'frus1977-80v12d15', 'frus1977-80v24d156', 'frus1977-80v12d55', 'frus1977-80v24d176', 'frus1977-80v24d109', 'frus1977-80v24d370', 'frus1977-80v24d174', 'frus1977-80v12d338', 'frus1977-80v24d361', 'frus1977-80v12d174', 'frus1977-80v24d135', 'frus1977-80v12d13', 'frus1977-80v24d187', 'frus1977-80v24d105', 'frus1977-80v12d219', 'frus1977-80v24d312', 'frus1977-80v12d117', 'frus1977-80v24d62', 'frus1977-80v24d302', 'frus1977-80v24d38', 'frus1977-80v12d274', 'frus1977-80v24d98', 'frus1977-80v12d306', 'frus1977-80v12d290', 'frus1977-80v12d325', 'frus1977-80v24d356', 'frus1977-80v24d27', 'frus1977-80v12d251', 'frus1977-80v12d280', 'frus1977-80v12d208', 'frus1977-80v12d2', 'frus1977-80v12d321', 'frus1977-80v24d79', 'frus1977-80v24d202', 'frus1977-80v12d247', 'frus1977-80v24d82', 'frus1977-80v24d58', 'frus1977-80v24d227', 'frus1977-80v24d346', 'frus1977-80v12d286', 'frus1977-80v12d180', 'frus1977-80v24d123', 'frus1977-80v24d330', 'frus1977-80v24d196', 'frus1977-80v24d66', 'frus1977-80v24d5', 'frus1977-80v12d185', 'frus1977-80v12d319', 'frus1977-80v12d240', 'frus1977-80v12d339', 'frus1977-80v12d90', 'frus1977-80v24d253', 'frus1977-80v24d151', 'frus1977-80v12d204', 'frus1977-80v12d231', 'frus1977-80v24d74', 'frus1977-80v24d120', 'frus1977-80v12d153', 'frus1977-80v24d34', 'frus1977-80v12d342', 'frus1977-80v12d26', 'frus1977-80v12d157', 'frus1977-80v12d143', 'frus1977-80v12d100', 'frus1977-80v24d25', 'frus1977-80v24d2', 'frus1977-80v24d168', 'frus1977-80v12d315', 'frus1865p1d373a', 'frus1977-80v12d162', 'frus1977-80v24d265', 'frus1977-80v24d24', 'frus1977-80v12d282', 'frus1977-80v12d316', 'frus1977-80v12d188', 'frus1977-80v24d354', 'frus1977-80v24d18', 'frus1977-80v24d368', 'frus1977-80v12d322', 'frus1977-80v12d292', 'frus1977-80v12d7', 'frus1977-80v24d333', 'frus1977-80v12d140', 'frus1977-80v12d230', 'frus1977-80v24d224', 'frus1977-80v24d110', 'frus1977-80v12d266', 'frus1977-80v12d196', 'frus1977-80v12d200', 'frus1977-80v12d116', 'frus1977-80v24d231', 'frus1977-80v24d203', 'frus1977-80v24d103', 'frus1977-80v24d184', 'frus1977-80v24d268', 'frus1977-80v24d212', 'frus1977-80v24d288', 'frus1977-80v12d130', 'frus1977-80v24d214', 'frus1977-80v12d10', 'frus1977-80v12d136', 'frus1977-80v12d76', 'frus1977-80v12d327', 'frus1977-80v24d264', 'frus1977-80v24d246', 'frus1977-80v12d249', 'frus1977-80v24d77', 'frus1977-80v12d334', 'frus1977-80v12d42', 'frus1977-80v24d111', 'frus1977-80v12d268', 'frus1977-80v24d113', 'frus1977-80v24d10', 'frus1977-80v12d203', 'frus1977-80v12d4', 'frus1977-80v24d239', 'frus1977-80v12d52', 'frus1977-80v24d339', 'frus1977-80v24d213', 'frus1977-80v12d317', 'frus1977-80v12d258', 'frus1977-80v12d304', 'frus1977-80v24d81', 'frus1977-80v24d359', 'frus1977-80v24d233', 'frus1977-80v12d261', 'frus1977-80v24d316', 'frus1977-80v24d53', 'frus1977-80v12d137', 'frus1977-80v12d229', 'frus1977-80v12d308', 'frus1977-80v12d41', 'frus1977-80v24d75', 'frus1977-80v12d110', 'frus1977-80v24d326', 'frus1977-80v12d12', 'frus1977-80v12d109', 'frus1977-80v12d191', 'frus1977-80v12d78', 'frus1977-80v12d170', 'frus1977-80v24d244', 'frus1977-80v24d305', 'frus1977-80v12d21', 'frus1977-80v24d52', 'frus1977-80v24d228', 'frus1977-80v24d43', 'frus1977-80v12d262', 'frus1977-80v24d23', 'frus1977-80v24d44', 'frus1977-80v24d251', 'frus1977-80v12d45', 'frus1977-80v24d362', 'frus1977-80v24d91', 'frus1977-80v24d108', 'frus1977-80v12d160', 'frus1977-80v24d171', 'frus1977-80v24d331', 'frus1977-80v12d151']\n"
     ]
    }
   ],
   "source": [
    "print(len(added), \"new document IDs were added \\n\\n\", added)"
   ]
  },
  {
   "cell_type": "code",
   "execution_count": 12,
   "metadata": {},
   "outputs": [
    {
     "name": "stdout",
     "output_type": "stream",
     "text": [
      "0 docs were removed \n",
      "\n",
      " []\n"
     ]
    }
   ],
   "source": [
    "print(len(lost), \"docs were removed \\n\\n\", lost)"
   ]
  },
  {
   "cell_type": "markdown",
   "metadata": {},
   "source": [
    "### Get doc id diffs between April 2019 and May 2019"
   ]
  },
  {
   "cell_type": "code",
   "execution_count": 13,
   "metadata": {},
   "outputs": [],
   "source": [
    "added_2 = list(set(may_docs['doc_id']).difference(set(apr_docs['doc_id'])))\n",
    "lost_2  = list(set(apr_docs['doc_id']).difference(set(may_docs['doc_id'])))"
   ]
  },
  {
   "cell_type": "code",
   "execution_count": 14,
   "metadata": {},
   "outputs": [
    {
     "name": "stdout",
     "output_type": "stream",
     "text": [
      "0 docs were added \n",
      "\n",
      " []\n"
     ]
    }
   ],
   "source": [
    "print(len(added_2), \"docs were added \\n\\n\", added_2)"
   ]
  },
  {
   "cell_type": "code",
   "execution_count": 15,
   "metadata": {},
   "outputs": [
    {
     "name": "stdout",
     "output_type": "stream",
     "text": [
      "0 docs were removed \n",
      "\n",
      " []\n"
     ]
    }
   ],
   "source": [
    "print(len(lost_2), \"docs were removed \\n\\n\", lost_2)"
   ]
  },
  {
   "cell_type": "markdown",
   "metadata": {},
   "source": [
    "### For docs ids that have stayed present, compare titles to ensure IDs have consistently referred to the same document"
   ]
  },
  {
   "cell_type": "code",
   "execution_count": 16,
   "metadata": {},
   "outputs": [],
   "source": [
    "may_docs.columns = ['volume', 'doc_id', 'may_doc_title']\n",
    "apr_docs.columns = ['volume', 'doc_id', 'apr_doc_title']\n",
    "dec_docs.columns = ['volume', 'doc_id', 'dec_doc_title']"
   ]
  },
  {
   "cell_type": "code",
   "execution_count": 17,
   "metadata": {},
   "outputs": [],
   "source": [
    "merged_docs = pd.merge(may_docs, apr_docs, on='doc_id', how='right')\n",
    "merged_docs = pd.merge(merged_docs, dec_docs, on='doc_id', how='right')\n",
    "merged_docs = merged_docs.drop(['volume', 'volume_x', 'volume_y'], axis=1)\n",
    "merged_docs = merged_docs.replace(r'\\\\n',' ', regex=True)\n",
    "merged_docs = merged_docs.replace(r'\\\\t',' ', regex=True)\n",
    "merged_docs = merged_docs.replace(r'\\n',' ', regex=True)"
   ]
  },
  {
   "cell_type": "code",
   "execution_count": 18,
   "metadata": {},
   "outputs": [],
   "source": [
    "merged_docs['may_doc_title'] = merged_docs['may_doc_title'].apply(str)\n",
    "merged_docs['apr_doc_title'] = merged_docs['apr_doc_title'].apply(str)\n",
    "merged_docs['dec_doc_title'] = merged_docs['dec_doc_title'].apply(str)"
   ]
  },
  {
   "cell_type": "code",
   "execution_count": 19,
   "metadata": {},
   "outputs": [],
   "source": [
    "changed = []"
   ]
  },
  {
   "cell_type": "code",
   "execution_count": 20,
   "metadata": {},
   "outputs": [],
   "source": [
    "for index, row in merged_docs.iterrows():\n",
    "    if not (row['may_doc_title'] == row['apr_doc_title'] == row['dec_doc_title']):\n",
    "        changed.append(row)"
   ]
  },
  {
   "cell_type": "code",
   "execution_count": 21,
   "metadata": {},
   "outputs": [
    {
     "data": {
      "text/html": [
       "<div>\n",
       "<style scoped>\n",
       "    .dataframe tbody tr th:only-of-type {\n",
       "        vertical-align: middle;\n",
       "    }\n",
       "\n",
       "    .dataframe tbody tr th {\n",
       "        vertical-align: top;\n",
       "    }\n",
       "\n",
       "    .dataframe thead th {\n",
       "        text-align: right;\n",
       "    }\n",
       "</style>\n",
       "<table border=\"1\" class=\"dataframe\">\n",
       "  <thead>\n",
       "    <tr style=\"text-align: right;\">\n",
       "      <th></th>\n",
       "      <th>doc_id</th>\n",
       "      <th>may_doc_title</th>\n",
       "      <th>apr_doc_title</th>\n",
       "      <th>dec_doc_title</th>\n",
       "    </tr>\n",
       "  </thead>\n",
       "  <tbody>\n",
       "    <tr>\n",
       "      <th>7230</th>\n",
       "      <td>frus1961-63v11d186</td>\n",
       "      <td>186. Memorandum From the Joint Chiefs of Staff...</td>\n",
       "      <td>186. Memorandum From the Joint Chiefs of Staff...</td>\n",
       "      <td>186. Memorandum From the Joint Chiefs of Staff...</td>\n",
       "    </tr>\n",
       "    <tr>\n",
       "      <th>9783</th>\n",
       "      <td>frus1952-54v01p2d295</td>\n",
       "      <td>The Under Secretary of State’s Special Assista...</td>\n",
       "      <td>The Under Secretary of State’s Special Assista...</td>\n",
       "      <td>The Under Secretary of State’s Special Assista...</td>\n",
       "    </tr>\n",
       "    <tr>\n",
       "      <th>26149</th>\n",
       "      <td>frus1961-63v12d11</td>\n",
       "      <td>11. Memorandum of Conversation</td>\n",
       "      <td>11. Memorandum of Conversation</td>\n",
       "      <td>11.Memorandum of Conversation</td>\n",
       "    </tr>\n",
       "    <tr>\n",
       "      <th>43264</th>\n",
       "      <td>frus1964-68v04d348</td>\n",
       "      <td>348. Telegram From the Embassy in Poland to   ...</td>\n",
       "      <td>348. Telegram From the Embassy in Poland to   ...</td>\n",
       "      <td>348.Telegram From the Embassy in Poland to    ...</td>\n",
       "    </tr>\n",
       "    <tr>\n",
       "      <th>53467</th>\n",
       "      <td>frus1961-63v14d15</td>\n",
       "      <td>15. Memorandum of Conversation</td>\n",
       "      <td>15. Memorandum of Conversation</td>\n",
       "      <td>15.Memorandum of Conversation</td>\n",
       "    </tr>\n",
       "  </tbody>\n",
       "</table>\n",
       "</div>"
      ],
      "text/plain": [
       "                     doc_id  \\\n",
       "7230     frus1961-63v11d186   \n",
       "9783   frus1952-54v01p2d295   \n",
       "26149     frus1961-63v12d11   \n",
       "43264    frus1964-68v04d348   \n",
       "53467     frus1961-63v14d15   \n",
       "\n",
       "                                           may_doc_title  \\\n",
       "7230   186. Memorandum From the Joint Chiefs of Staff...   \n",
       "9783   The Under Secretary of State’s Special Assista...   \n",
       "26149                     11. Memorandum of Conversation   \n",
       "43264  348. Telegram From the Embassy in Poland to   ...   \n",
       "53467                     15. Memorandum of Conversation   \n",
       "\n",
       "                                           apr_doc_title  \\\n",
       "7230   186. Memorandum From the Joint Chiefs of Staff...   \n",
       "9783   The Under Secretary of State’s Special Assista...   \n",
       "26149                     11. Memorandum of Conversation   \n",
       "43264  348. Telegram From the Embassy in Poland to   ...   \n",
       "53467                     15. Memorandum of Conversation   \n",
       "\n",
       "                                           dec_doc_title  \n",
       "7230   186. Memorandum From the Joint Chiefs of Staff...  \n",
       "9783   The Under Secretary of State’s Special Assista...  \n",
       "26149                      11.Memorandum of Conversation  \n",
       "43264  348.Telegram From the Embassy in Poland to    ...  \n",
       "53467                      15.Memorandum of Conversation  "
      ]
     },
     "execution_count": 21,
     "metadata": {},
     "output_type": "execute_result"
    }
   ],
   "source": [
    "changed_df = pd.DataFrame(changed)\n",
    "changed_df.head()"
   ]
  },
  {
   "cell_type": "code",
   "execution_count": 22,
   "metadata": {},
   "outputs": [],
   "source": [
    "dec_april_distance = []\n",
    "for index, row in changed_df.iterrows():\n",
    "    dec_april_distance.append(lev.distance(row['dec_doc_title'], row['apr_doc_title']))\n",
    "\n",
    "changed_df['distance_dec_to_apr'] = dec_april_distance"
   ]
  },
  {
   "cell_type": "code",
   "execution_count": 23,
   "metadata": {},
   "outputs": [],
   "source": [
    "may_april_distance = []\n",
    "for index, row in changed_df.iterrows():\n",
    "    may_april_distance.append(lev.distance(row['may_doc_title'], row['apr_doc_title']))\n",
    "\n",
    "changed_df['distance_may_to_apr'] = may_april_distance"
   ]
  },
  {
   "cell_type": "code",
   "execution_count": 24,
   "metadata": {},
   "outputs": [
    {
     "data": {
      "text/html": [
       "<div>\n",
       "<style scoped>\n",
       "    .dataframe tbody tr th:only-of-type {\n",
       "        vertical-align: middle;\n",
       "    }\n",
       "\n",
       "    .dataframe tbody tr th {\n",
       "        vertical-align: top;\n",
       "    }\n",
       "\n",
       "    .dataframe thead th {\n",
       "        text-align: right;\n",
       "    }\n",
       "</style>\n",
       "<table border=\"1\" class=\"dataframe\">\n",
       "  <thead>\n",
       "    <tr style=\"text-align: right;\">\n",
       "      <th></th>\n",
       "      <th>doc_id</th>\n",
       "      <th>may_doc_title</th>\n",
       "      <th>apr_doc_title</th>\n",
       "      <th>dec_doc_title</th>\n",
       "      <th>distance_dec_to_apr</th>\n",
       "      <th>distance_may_to_apr</th>\n",
       "    </tr>\n",
       "  </thead>\n",
       "  <tbody>\n",
       "    <tr>\n",
       "      <th>7230</th>\n",
       "      <td>frus1961-63v11d186</td>\n",
       "      <td>186. Memorandum From the Joint Chiefs of Staff...</td>\n",
       "      <td>186. Memorandum From the Joint Chiefs of Staff...</td>\n",
       "      <td>186. Memorandum From the Joint Chiefs of Staff...</td>\n",
       "      <td>1</td>\n",
       "      <td>0</td>\n",
       "    </tr>\n",
       "    <tr>\n",
       "      <th>9783</th>\n",
       "      <td>frus1952-54v01p2d295</td>\n",
       "      <td>The Under Secretary of State’s Special Assista...</td>\n",
       "      <td>The Under Secretary of State’s Special Assista...</td>\n",
       "      <td>The Under Secretary of State’s Special Assista...</td>\n",
       "      <td>0</td>\n",
       "      <td>1</td>\n",
       "    </tr>\n",
       "    <tr>\n",
       "      <th>26149</th>\n",
       "      <td>frus1961-63v12d11</td>\n",
       "      <td>11. Memorandum of Conversation</td>\n",
       "      <td>11. Memorandum of Conversation</td>\n",
       "      <td>11.Memorandum of Conversation</td>\n",
       "      <td>1</td>\n",
       "      <td>0</td>\n",
       "    </tr>\n",
       "    <tr>\n",
       "      <th>43264</th>\n",
       "      <td>frus1964-68v04d348</td>\n",
       "      <td>348. Telegram From the Embassy in Poland to   ...</td>\n",
       "      <td>348. Telegram From the Embassy in Poland to   ...</td>\n",
       "      <td>348.Telegram From the Embassy in Poland to    ...</td>\n",
       "      <td>1</td>\n",
       "      <td>0</td>\n",
       "    </tr>\n",
       "    <tr>\n",
       "      <th>53467</th>\n",
       "      <td>frus1961-63v14d15</td>\n",
       "      <td>15. Memorandum of Conversation</td>\n",
       "      <td>15. Memorandum of Conversation</td>\n",
       "      <td>15.Memorandum of Conversation</td>\n",
       "      <td>1</td>\n",
       "      <td>0</td>\n",
       "    </tr>\n",
       "  </tbody>\n",
       "</table>\n",
       "</div>"
      ],
      "text/plain": [
       "                     doc_id  \\\n",
       "7230     frus1961-63v11d186   \n",
       "9783   frus1952-54v01p2d295   \n",
       "26149     frus1961-63v12d11   \n",
       "43264    frus1964-68v04d348   \n",
       "53467     frus1961-63v14d15   \n",
       "\n",
       "                                           may_doc_title  \\\n",
       "7230   186. Memorandum From the Joint Chiefs of Staff...   \n",
       "9783   The Under Secretary of State’s Special Assista...   \n",
       "26149                     11. Memorandum of Conversation   \n",
       "43264  348. Telegram From the Embassy in Poland to   ...   \n",
       "53467                     15. Memorandum of Conversation   \n",
       "\n",
       "                                           apr_doc_title  \\\n",
       "7230   186. Memorandum From the Joint Chiefs of Staff...   \n",
       "9783   The Under Secretary of State’s Special Assista...   \n",
       "26149                     11. Memorandum of Conversation   \n",
       "43264  348. Telegram From the Embassy in Poland to   ...   \n",
       "53467                     15. Memorandum of Conversation   \n",
       "\n",
       "                                           dec_doc_title  distance_dec_to_apr  \\\n",
       "7230   186. Memorandum From the Joint Chiefs of Staff...                    1   \n",
       "9783   The Under Secretary of State’s Special Assista...                    0   \n",
       "26149                      11.Memorandum of Conversation                    1   \n",
       "43264  348.Telegram From the Embassy in Poland to    ...                    1   \n",
       "53467                      15.Memorandum of Conversation                    1   \n",
       "\n",
       "       distance_may_to_apr  \n",
       "7230                     0  \n",
       "9783                     1  \n",
       "26149                    0  \n",
       "43264                    0  \n",
       "53467                    0  "
      ]
     },
     "execution_count": 24,
     "metadata": {},
     "output_type": "execute_result"
    }
   ],
   "source": [
    "changed_df.head()"
   ]
  },
  {
   "cell_type": "code",
   "execution_count": 25,
   "metadata": {},
   "outputs": [],
   "source": [
    "changed_df.to_csv('changelist.csv', encoding='utf-8', index=False)"
   ]
  },
  {
   "cell_type": "code",
   "execution_count": null,
   "metadata": {},
   "outputs": [],
   "source": []
  }
 ],
 "metadata": {
  "kernelspec": {
   "display_name": "Python 3",
   "language": "python",
   "name": "python3"
  },
  "language_info": {
   "codemirror_mode": {
    "name": "ipython",
    "version": 3
   },
   "file_extension": ".py",
   "mimetype": "text/x-python",
   "name": "python",
   "nbconvert_exporter": "python",
   "pygments_lexer": "ipython3",
   "version": "3.7.1"
  }
 },
 "nbformat": 4,
 "nbformat_minor": 2
}

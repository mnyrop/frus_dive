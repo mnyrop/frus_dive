{
 "cells": [
  {
   "cell_type": "code",
   "execution_count": 10,
   "metadata": {},
   "outputs": [],
   "source": [
    "from lxml import etree, objectify\n",
    "from tqdm import tqdm\n",
    "import pandas as pd\n",
    "import pprint as pretty\n",
    "import glob, re, os, json\n",
    "\n",
    "import frus_helpers as frus"
   ]
  },
  {
   "cell_type": "code",
   "execution_count": 3,
   "metadata": {},
   "outputs": [
    {
     "data": {
      "text/html": [
       "<div>\n",
       "<style scoped>\n",
       "    .dataframe tbody tr th:only-of-type {\n",
       "        vertical-align: middle;\n",
       "    }\n",
       "\n",
       "    .dataframe tbody tr th {\n",
       "        vertical-align: top;\n",
       "    }\n",
       "\n",
       "    .dataframe thead th {\n",
       "        text-align: right;\n",
       "    }\n",
       "</style>\n",
       "<table border=\"1\" class=\"dataframe\">\n",
       "  <thead>\n",
       "    <tr style=\"text-align: right;\">\n",
       "      <th></th>\n",
       "      <th>date</th>\n",
       "      <th>commit-sha</th>\n",
       "    </tr>\n",
       "  </thead>\n",
       "  <tbody>\n",
       "    <tr>\n",
       "      <th>0</th>\n",
       "      <td>05-03-2019</td>\n",
       "      <td>6b3da02</td>\n",
       "    </tr>\n",
       "    <tr>\n",
       "      <th>1</th>\n",
       "      <td>04-03-2019</td>\n",
       "      <td>aa86e80</td>\n",
       "    </tr>\n",
       "    <tr>\n",
       "      <th>2</th>\n",
       "      <td>12-21-2018</td>\n",
       "      <td>cae73af</td>\n",
       "    </tr>\n",
       "  </tbody>\n",
       "</table>\n",
       "</div>"
      ],
      "text/plain": [
       "         date commit-sha\n",
       "0  05-03-2019    6b3da02\n",
       "1  04-03-2019    aa86e80\n",
       "2  12-21-2018    cae73af"
      ]
     },
     "execution_count": 3,
     "metadata": {},
     "output_type": "execute_result"
    }
   ],
   "source": [
    "pd.read_csv('dates_commits.csv')"
   ]
  },
  {
   "cell_type": "code",
   "execution_count": 4,
   "metadata": {},
   "outputs": [
    {
     "name": "stdout",
     "output_type": "stream",
     "text": [
      "may 3: 0 volumes\n",
      "apr 3: 0 volumes\n",
      "dec 21: 0 volumes\n"
     ]
    }
   ],
   "source": [
    "may_3_vols = glob.glob('data/frus_6b3da02/volumes/*.xml')\n",
    "apr_3_vols = glob.glob('data/frus_aa86e80/volumes/*.xml')\n",
    "dec_21_vols = glob.glob('data/frus_cae73af/volumes/*.xml')\n",
    "\n",
    "print('may 3:', len(may_3_vols), 'volumes')\n",
    "print('apr 3:', len(apr_3_vols), 'volumes')\n",
    "print('dec 21:', len(dec_21_vols), 'volumes')"
   ]
  },
  {
   "cell_type": "markdown",
   "metadata": {},
   "source": [
    "### Are the same volume file names present for FRUS as of 5/3/209, 4/3/2019, and 12/21/18? "
   ]
  },
  {
   "cell_type": "code",
   "execution_count": 6,
   "metadata": {},
   "outputs": [
    {
     "data": {
      "text/plain": [
       "True"
      ]
     },
     "execution_count": 6,
     "metadata": {},
     "output_type": "execute_result"
    }
   ],
   "source": [
    "may_3_vols == apr_3_vols == dec_21_vols"
   ]
  },
  {
   "cell_type": "markdown",
   "metadata": {},
   "source": [
    "### Create dicts of document ids and titles for each volume in each set of FRUS to compare changes over time"
   ]
  },
  {
   "cell_type": "code",
   "execution_count": 17,
   "metadata": {},
   "outputs": [],
   "source": [
    "def volume_docs(xml_volumes):\n",
    "    data = []\n",
    "    for file in tqdm(xml_volumes):\n",
    "        volume_name = os.path.basename(file).split('.')[0]\n",
    "        txt = open(file, 'r').read()\n",
    "        xml = frus.parse_xml(txt, volume_name)\n",
    "        documents = []\n",
    "\n",
    "        for chapter in xml['text']['body']:\n",
    "            docs = chapter['chapter']\n",
    "            for doc in docs:\n",
    "                documents.append({ \n",
    "                    'id': doc['id'], \n",
    "                    'title': doc['doc_info']['title']\n",
    "                })\n",
    "\n",
    "        data.append({\n",
    "            'volume_name': volume_name,\n",
    "            'documents': documents\n",
    "        })\n",
    "    return data;"
   ]
  },
  {
   "cell_type": "markdown",
   "metadata": {},
   "source": [
    "### Export dicts as JSON files to save memory + refer back"
   ]
  },
  {
   "cell_type": "code",
   "execution_count": 26,
   "metadata": {},
   "outputs": [
    {
     "name": "stderr",
     "output_type": "stream",
     "text": [
      "100%|██████████| 535/535 [1:17:20<00:00,  9.31s/it]\n"
     ]
    }
   ],
   "source": [
    "may_3_volume_docs = volume_docs(may_3_vols)"
   ]
  },
  {
   "cell_type": "code",
   "execution_count": 18,
   "metadata": {
    "scrolled": true
   },
   "outputs": [
    {
     "name": "stderr",
     "output_type": "stream",
     "text": [
      "100%|██████████| 535/535 [2:12:38<00:00,  9.11s/it]    \n"
     ]
    }
   ],
   "source": [
    "apr_3_volume_docs = volume_docs(apr_3_vols)"
   ]
  },
  {
   "cell_type": "code",
   "execution_count": 19,
   "metadata": {},
   "outputs": [
    {
     "name": "stderr",
     "output_type": "stream",
     "text": [
      "100%|██████████| 535/535 [1:38:13<00:00,  9.64s/it]  \n"
     ]
    }
   ],
   "source": [
    "dec_21_volume_docs = volume_docs(dec_21_vols)"
   ]
  },
  {
   "cell_type": "code",
   "execution_count": null,
   "metadata": {},
   "outputs": [],
   "source": []
  }
 ],
 "metadata": {
  "kernelspec": {
   "display_name": "Python 3",
   "language": "python",
   "name": "python3"
  },
  "language_info": {
   "codemirror_mode": {
    "name": "ipython",
    "version": 3
   },
   "file_extension": ".py",
   "mimetype": "text/x-python",
   "name": "python",
   "nbconvert_exporter": "python",
   "pygments_lexer": "ipython3",
   "version": "3.7.1"
  }
 },
 "nbformat": 4,
 "nbformat_minor": 2
}
